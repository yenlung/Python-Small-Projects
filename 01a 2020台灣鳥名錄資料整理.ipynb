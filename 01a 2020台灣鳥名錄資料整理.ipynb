{
 "cells": [
  {
   "cell_type": "markdown",
   "metadata": {},
   "source": [
    "這是根據中華鳥會發布的「2020 台灣鳥類名錄」, 原來只有提供 Excel 和 PDF 檔, 我們這個小程式就是整理成 CSV 檔, 方便後續相關程式應用。\n",
    "\n",
    "原來官方的檔案可以在[【這裡】](https://drive.google.com/drive/folders/15i5AXK0mZyIJqpd33_YQS_cJ9AwiM6pw?fbclid=IwAR2G8O2x179Dt4uOFf6N0aNiL7qVMtnhs8KEvZXtbLBTrLMFHSbaeKQCe34)找到。"
   ]
  },
  {
   "cell_type": "code",
   "execution_count": 1,
   "metadata": {},
   "outputs": [],
   "source": [
    "%matplotlib inline\n",
    "\n",
    "import numpy as np\n",
    "import matplotlib.pyplot as plt\n",
    "import pandas as pd"
   ]
  },
  {
   "cell_type": "code",
   "execution_count": 2,
   "metadata": {},
   "outputs": [],
   "source": [
    "from IPython.display import display\n",
    "from ipywidgets import interact_manual"
   ]
  },
  {
   "cell_type": "code",
   "execution_count": 3,
   "metadata": {},
   "outputs": [],
   "source": [
    "df = pd.read_excel('datasets/2020台灣鳥類名錄.xlsx')"
   ]
  },
  {
   "cell_type": "code",
   "execution_count": 4,
   "metadata": {},
   "outputs": [
    {
     "data": {
      "text/html": [
       "<div>\n",
       "<style scoped>\n",
       "    .dataframe tbody tr th:only-of-type {\n",
       "        vertical-align: middle;\n",
       "    }\n",
       "\n",
       "    .dataframe tbody tr th {\n",
       "        vertical-align: top;\n",
       "    }\n",
       "\n",
       "    .dataframe thead th {\n",
       "        text-align: right;\n",
       "    }\n",
       "</style>\n",
       "<table border=\"1\" class=\"dataframe\">\n",
       "  <thead>\n",
       "    <tr style=\"text-align: right;\">\n",
       "      <th></th>\n",
       "      <th>編號</th>\n",
       "      <th>中文名</th>\n",
       "      <th>學名</th>\n",
       "      <th>亞種小名</th>\n",
       "      <th>英文名</th>\n",
       "      <th>科名</th>\n",
       "      <th>台灣各區遷徙屬性</th>\n",
       "      <th>Unnamed: 7</th>\n",
       "      <th>Unnamed: 8</th>\n",
       "      <th>Unnamed: 9</th>\n",
       "      <th>特有性</th>\n",
       "      <th>臺灣保育等級</th>\n",
       "    </tr>\n",
       "  </thead>\n",
       "  <tbody>\n",
       "    <tr>\n",
       "      <th>0</th>\n",
       "      <td>NaN</td>\n",
       "      <td>NaN</td>\n",
       "      <td>NaN</td>\n",
       "      <td>NaN</td>\n",
       "      <td>NaN</td>\n",
       "      <td>NaN</td>\n",
       "      <td>臺灣</td>\n",
       "      <td>馬祖地區</td>\n",
       "      <td>金門地區</td>\n",
       "      <td>東沙島</td>\n",
       "      <td>NaN</td>\n",
       "      <td>NaN</td>\n",
       "    </tr>\n",
       "    <tr>\n",
       "      <th>1</th>\n",
       "      <td>1.0</td>\n",
       "      <td>樹鴨</td>\n",
       "      <td>Dendrocygna javanica</td>\n",
       "      <td>無亞種分化</td>\n",
       "      <td>Lesser Whistling-Duck</td>\n",
       "      <td>雁鴨科 Anatidae</td>\n",
       "      <td>迷</td>\n",
       "      <td>無</td>\n",
       "      <td>無</td>\n",
       "      <td>迷</td>\n",
       "      <td>NaN</td>\n",
       "      <td>NaN</td>\n",
       "    </tr>\n",
       "    <tr>\n",
       "      <th>2</th>\n",
       "      <td>2.0</td>\n",
       "      <td>灰雁</td>\n",
       "      <td>Anser anser</td>\n",
       "      <td>rubrirostris</td>\n",
       "      <td>Graylag Goose</td>\n",
       "      <td>雁鴨科 Anatidae</td>\n",
       "      <td>迷</td>\n",
       "      <td>迷</td>\n",
       "      <td>冬、稀</td>\n",
       "      <td>無</td>\n",
       "      <td>NaN</td>\n",
       "      <td>NaN</td>\n",
       "    </tr>\n",
       "    <tr>\n",
       "      <th>3</th>\n",
       "      <td>3.0</td>\n",
       "      <td>鴻雁</td>\n",
       "      <td>Anser cygnoides</td>\n",
       "      <td>無亞種分化</td>\n",
       "      <td>Swan Goose</td>\n",
       "      <td>雁鴨科 Anatidae</td>\n",
       "      <td>冬、稀</td>\n",
       "      <td>無</td>\n",
       "      <td>冬、稀</td>\n",
       "      <td>無</td>\n",
       "      <td>NaN</td>\n",
       "      <td>NaN</td>\n",
       "    </tr>\n",
       "    <tr>\n",
       "      <th>4</th>\n",
       "      <td>4.0</td>\n",
       "      <td>白額雁</td>\n",
       "      <td>Anser albifrons</td>\n",
       "      <td>frontalis</td>\n",
       "      <td>Greater White-fronted Goose</td>\n",
       "      <td>雁鴨科 Anatidae</td>\n",
       "      <td>冬、稀</td>\n",
       "      <td>過、稀</td>\n",
       "      <td>冬、稀</td>\n",
       "      <td>迷</td>\n",
       "      <td>NaN</td>\n",
       "      <td>NaN</td>\n",
       "    </tr>\n",
       "  </tbody>\n",
       "</table>\n",
       "</div>"
      ],
      "text/plain": [
       "    編號  中文名                    學名          亞種小名                          英文名  \\\n",
       "0  NaN  NaN                   NaN           NaN                          NaN   \n",
       "1  1.0   樹鴨  Dendrocygna javanica         無亞種分化        Lesser Whistling-Duck   \n",
       "2  2.0   灰雁           Anser anser  rubrirostris                Graylag Goose   \n",
       "3  3.0   鴻雁       Anser cygnoides         無亞種分化                   Swan Goose   \n",
       "4  4.0  白額雁       Anser albifrons     frontalis  Greater White-fronted Goose   \n",
       "\n",
       "             科名 台灣各區遷徙屬性 Unnamed: 7 Unnamed: 8 Unnamed: 9  特有性 臺灣保育等級  \n",
       "0           NaN       臺灣       馬祖地區       金門地區        東沙島  NaN    NaN  \n",
       "1  雁鴨科 Anatidae        迷          無          無          迷  NaN    NaN  \n",
       "2  雁鴨科 Anatidae        迷          迷        冬、稀          無  NaN    NaN  \n",
       "3  雁鴨科 Anatidae      冬、稀          無        冬、稀          無  NaN    NaN  \n",
       "4  雁鴨科 Anatidae      冬、稀        過、稀        冬、稀          迷  NaN    NaN  "
      ]
     },
     "execution_count": 4,
     "metadata": {},
     "output_type": "execute_result"
    }
   ],
   "source": [
    "df.head()"
   ]
  },
  {
   "cell_type": "code",
   "execution_count": 5,
   "metadata": {},
   "outputs": [],
   "source": [
    "# 調整欄位名稱\n",
    "\n",
    "df.columns = ['編號', '中文名', '學名', '亞種小名', '英文名', '科名', '台灣', '馬祖',\n",
    "       '金門', '東沙', '特有性', '臺灣保育等級']"
   ]
  },
  {
   "cell_type": "code",
   "execution_count": 6,
   "metadata": {},
   "outputs": [],
   "source": [
    "# 把第 0 列  (原本第二欄位名) 刪掉\n",
    "\n",
    "df = df.drop(df.index[0])"
   ]
  },
  {
   "cell_type": "code",
   "execution_count": 7,
   "metadata": {},
   "outputs": [],
   "source": [
    "# 因為剛好 index 和「編號」相同, 刪掉「編號」那一欄\n",
    "\n",
    "df = df.drop('編號', axis=1)"
   ]
  },
  {
   "cell_type": "code",
   "execution_count": 8,
   "metadata": {},
   "outputs": [
    {
     "data": {
      "text/html": [
       "<div>\n",
       "<style scoped>\n",
       "    .dataframe tbody tr th:only-of-type {\n",
       "        vertical-align: middle;\n",
       "    }\n",
       "\n",
       "    .dataframe tbody tr th {\n",
       "        vertical-align: top;\n",
       "    }\n",
       "\n",
       "    .dataframe thead th {\n",
       "        text-align: right;\n",
       "    }\n",
       "</style>\n",
       "<table border=\"1\" class=\"dataframe\">\n",
       "  <thead>\n",
       "    <tr style=\"text-align: right;\">\n",
       "      <th></th>\n",
       "      <th>中文名</th>\n",
       "      <th>學名</th>\n",
       "      <th>亞種小名</th>\n",
       "      <th>英文名</th>\n",
       "      <th>科名</th>\n",
       "      <th>台灣</th>\n",
       "      <th>馬祖</th>\n",
       "      <th>金門</th>\n",
       "      <th>東沙</th>\n",
       "      <th>特有性</th>\n",
       "      <th>臺灣保育等級</th>\n",
       "    </tr>\n",
       "  </thead>\n",
       "  <tbody>\n",
       "    <tr>\n",
       "      <th>1</th>\n",
       "      <td>樹鴨</td>\n",
       "      <td>Dendrocygna javanica</td>\n",
       "      <td>無亞種分化</td>\n",
       "      <td>Lesser Whistling-Duck</td>\n",
       "      <td>雁鴨科 Anatidae</td>\n",
       "      <td>迷</td>\n",
       "      <td>無</td>\n",
       "      <td>無</td>\n",
       "      <td>迷</td>\n",
       "      <td>NaN</td>\n",
       "      <td>NaN</td>\n",
       "    </tr>\n",
       "    <tr>\n",
       "      <th>2</th>\n",
       "      <td>灰雁</td>\n",
       "      <td>Anser anser</td>\n",
       "      <td>rubrirostris</td>\n",
       "      <td>Graylag Goose</td>\n",
       "      <td>雁鴨科 Anatidae</td>\n",
       "      <td>迷</td>\n",
       "      <td>迷</td>\n",
       "      <td>冬、稀</td>\n",
       "      <td>無</td>\n",
       "      <td>NaN</td>\n",
       "      <td>NaN</td>\n",
       "    </tr>\n",
       "    <tr>\n",
       "      <th>3</th>\n",
       "      <td>鴻雁</td>\n",
       "      <td>Anser cygnoides</td>\n",
       "      <td>無亞種分化</td>\n",
       "      <td>Swan Goose</td>\n",
       "      <td>雁鴨科 Anatidae</td>\n",
       "      <td>冬、稀</td>\n",
       "      <td>無</td>\n",
       "      <td>冬、稀</td>\n",
       "      <td>無</td>\n",
       "      <td>NaN</td>\n",
       "      <td>NaN</td>\n",
       "    </tr>\n",
       "    <tr>\n",
       "      <th>4</th>\n",
       "      <td>白額雁</td>\n",
       "      <td>Anser albifrons</td>\n",
       "      <td>frontalis</td>\n",
       "      <td>Greater White-fronted Goose</td>\n",
       "      <td>雁鴨科 Anatidae</td>\n",
       "      <td>冬、稀</td>\n",
       "      <td>過、稀</td>\n",
       "      <td>冬、稀</td>\n",
       "      <td>迷</td>\n",
       "      <td>NaN</td>\n",
       "      <td>NaN</td>\n",
       "    </tr>\n",
       "    <tr>\n",
       "      <th>5</th>\n",
       "      <td>小白額雁</td>\n",
       "      <td>Anser erythropus</td>\n",
       "      <td>無亞種分化</td>\n",
       "      <td>Lesser White-fronted Goose</td>\n",
       "      <td>雁鴨科 Anatidae</td>\n",
       "      <td>過、稀</td>\n",
       "      <td>無</td>\n",
       "      <td>無</td>\n",
       "      <td>無</td>\n",
       "      <td>NaN</td>\n",
       "      <td>NaN</td>\n",
       "    </tr>\n",
       "  </tbody>\n",
       "</table>\n",
       "</div>"
      ],
      "text/plain": [
       "    中文名                    學名          亞種小名                          英文名  \\\n",
       "1    樹鴨  Dendrocygna javanica         無亞種分化        Lesser Whistling-Duck   \n",
       "2    灰雁           Anser anser  rubrirostris                Graylag Goose   \n",
       "3    鴻雁       Anser cygnoides         無亞種分化                   Swan Goose   \n",
       "4   白額雁       Anser albifrons     frontalis  Greater White-fronted Goose   \n",
       "5  小白額雁      Anser erythropus         無亞種分化   Lesser White-fronted Goose   \n",
       "\n",
       "             科名   台灣   馬祖   金門 東沙  特有性 臺灣保育等級  \n",
       "1  雁鴨科 Anatidae    迷    無    無  迷  NaN    NaN  \n",
       "2  雁鴨科 Anatidae    迷    迷  冬、稀  無  NaN    NaN  \n",
       "3  雁鴨科 Anatidae  冬、稀    無  冬、稀  無  NaN    NaN  \n",
       "4  雁鴨科 Anatidae  冬、稀  過、稀  冬、稀  迷  NaN    NaN  \n",
       "5  雁鴨科 Anatidae  過、稀    無    無  無  NaN    NaN  "
      ]
     },
     "execution_count": 8,
     "metadata": {},
     "output_type": "execute_result"
    }
   ],
   "source": [
    "df.head()"
   ]
  },
  {
   "cell_type": "code",
   "execution_count": 9,
   "metadata": {},
   "outputs": [],
   "source": [
    "# 把無列特有性、台灣保育等級的都標為「無」\n",
    "\n",
    "df.fillna('無', inplace=True)"
   ]
  },
  {
   "cell_type": "code",
   "execution_count": 10,
   "metadata": {
    "scrolled": true
   },
   "outputs": [
    {
     "data": {
      "text/html": [
       "<div>\n",
       "<style scoped>\n",
       "    .dataframe tbody tr th:only-of-type {\n",
       "        vertical-align: middle;\n",
       "    }\n",
       "\n",
       "    .dataframe tbody tr th {\n",
       "        vertical-align: top;\n",
       "    }\n",
       "\n",
       "    .dataframe thead th {\n",
       "        text-align: right;\n",
       "    }\n",
       "</style>\n",
       "<table border=\"1\" class=\"dataframe\">\n",
       "  <thead>\n",
       "    <tr style=\"text-align: right;\">\n",
       "      <th></th>\n",
       "      <th>中文名</th>\n",
       "      <th>學名</th>\n",
       "      <th>亞種小名</th>\n",
       "      <th>英文名</th>\n",
       "      <th>科名</th>\n",
       "      <th>台灣</th>\n",
       "      <th>馬祖</th>\n",
       "      <th>金門</th>\n",
       "      <th>東沙</th>\n",
       "      <th>特有性</th>\n",
       "      <th>臺灣保育等級</th>\n",
       "    </tr>\n",
       "  </thead>\n",
       "  <tbody>\n",
       "    <tr>\n",
       "      <th>1</th>\n",
       "      <td>樹鴨</td>\n",
       "      <td>Dendrocygna javanica</td>\n",
       "      <td>無亞種分化</td>\n",
       "      <td>Lesser Whistling-Duck</td>\n",
       "      <td>雁鴨科 Anatidae</td>\n",
       "      <td>迷</td>\n",
       "      <td>無</td>\n",
       "      <td>無</td>\n",
       "      <td>迷</td>\n",
       "      <td>無</td>\n",
       "      <td>無</td>\n",
       "    </tr>\n",
       "    <tr>\n",
       "      <th>2</th>\n",
       "      <td>灰雁</td>\n",
       "      <td>Anser anser</td>\n",
       "      <td>rubrirostris</td>\n",
       "      <td>Graylag Goose</td>\n",
       "      <td>雁鴨科 Anatidae</td>\n",
       "      <td>迷</td>\n",
       "      <td>迷</td>\n",
       "      <td>冬、稀</td>\n",
       "      <td>無</td>\n",
       "      <td>無</td>\n",
       "      <td>無</td>\n",
       "    </tr>\n",
       "    <tr>\n",
       "      <th>3</th>\n",
       "      <td>鴻雁</td>\n",
       "      <td>Anser cygnoides</td>\n",
       "      <td>無亞種分化</td>\n",
       "      <td>Swan Goose</td>\n",
       "      <td>雁鴨科 Anatidae</td>\n",
       "      <td>冬、稀</td>\n",
       "      <td>無</td>\n",
       "      <td>冬、稀</td>\n",
       "      <td>無</td>\n",
       "      <td>無</td>\n",
       "      <td>無</td>\n",
       "    </tr>\n",
       "    <tr>\n",
       "      <th>4</th>\n",
       "      <td>白額雁</td>\n",
       "      <td>Anser albifrons</td>\n",
       "      <td>frontalis</td>\n",
       "      <td>Greater White-fronted Goose</td>\n",
       "      <td>雁鴨科 Anatidae</td>\n",
       "      <td>冬、稀</td>\n",
       "      <td>過、稀</td>\n",
       "      <td>冬、稀</td>\n",
       "      <td>迷</td>\n",
       "      <td>無</td>\n",
       "      <td>無</td>\n",
       "    </tr>\n",
       "    <tr>\n",
       "      <th>5</th>\n",
       "      <td>小白額雁</td>\n",
       "      <td>Anser erythropus</td>\n",
       "      <td>無亞種分化</td>\n",
       "      <td>Lesser White-fronted Goose</td>\n",
       "      <td>雁鴨科 Anatidae</td>\n",
       "      <td>過、稀</td>\n",
       "      <td>無</td>\n",
       "      <td>無</td>\n",
       "      <td>無</td>\n",
       "      <td>無</td>\n",
       "      <td>無</td>\n",
       "    </tr>\n",
       "  </tbody>\n",
       "</table>\n",
       "</div>"
      ],
      "text/plain": [
       "    中文名                    學名          亞種小名                          英文名  \\\n",
       "1    樹鴨  Dendrocygna javanica         無亞種分化        Lesser Whistling-Duck   \n",
       "2    灰雁           Anser anser  rubrirostris                Graylag Goose   \n",
       "3    鴻雁       Anser cygnoides         無亞種分化                   Swan Goose   \n",
       "4   白額雁       Anser albifrons     frontalis  Greater White-fronted Goose   \n",
       "5  小白額雁      Anser erythropus         無亞種分化   Lesser White-fronted Goose   \n",
       "\n",
       "             科名   台灣   馬祖   金門 東沙 特有性 臺灣保育等級  \n",
       "1  雁鴨科 Anatidae    迷    無    無  迷   無      無  \n",
       "2  雁鴨科 Anatidae    迷    迷  冬、稀  無   無      無  \n",
       "3  雁鴨科 Anatidae  冬、稀    無  冬、稀  無   無      無  \n",
       "4  雁鴨科 Anatidae  冬、稀  過、稀  冬、稀  迷   無      無  \n",
       "5  雁鴨科 Anatidae  過、稀    無    無  無   無      無  "
      ]
     },
     "execution_count": 10,
     "metadata": {},
     "output_type": "execute_result"
    }
   ],
   "source": [
    "df.head()"
   ]
  },
  {
   "cell_type": "markdown",
   "metadata": {},
   "source": [
    "### 用鳥名查資料\n",
    "\n",
    "可以輸入 (部份) 鳥名, 會列出所有符合條件的鳥。"
   ]
  },
  {
   "cell_type": "code",
   "execution_count": 11,
   "metadata": {},
   "outputs": [],
   "source": [
    "def search(鳥名):\n",
    "    df_result = df[df.中文名.str.contains(鳥名)]\n",
    "    display(df_result)"
   ]
  },
  {
   "cell_type": "code",
   "execution_count": 12,
   "metadata": {},
   "outputs": [
    {
     "data": {
      "application/vnd.jupyter.widget-view+json": {
       "model_id": "9cd5af93864a429ca6e15ee0a5e6e8a4",
       "version_major": 2,
       "version_minor": 0
      },
      "text/plain": [
       "interactive(children=(Text(value='請輸入鳥名（部份即可）', description='鳥名'), Button(description='Run Interact', style=Bu…"
      ]
     },
     "metadata": {},
     "output_type": "display_data"
    }
   ],
   "source": [
    "interact_manual(search, 鳥名='請輸入鳥名（部份即可）');"
   ]
  },
  {
   "cell_type": "markdown",
   "metadata": {},
   "source": [
    "### 存檔\n",
    "\n",
    "這和我們放在 `datasets` 裡的檔案一致。"
   ]
  },
  {
   "cell_type": "code",
   "execution_count": 13,
   "metadata": {},
   "outputs": [],
   "source": [
    "df.to_csv('2020台灣鳥類名錄.csv')"
   ]
  }
 ],
 "metadata": {
  "kernelspec": {
   "display_name": "Python 3",
   "language": "python",
   "name": "python3"
  },
  "language_info": {
   "codemirror_mode": {
    "name": "ipython",
    "version": 3
   },
   "file_extension": ".py",
   "mimetype": "text/x-python",
   "name": "python",
   "nbconvert_exporter": "python",
   "pygments_lexer": "ipython3",
   "version": "3.7.3"
  }
 },
 "nbformat": 4,
 "nbformat_minor": 2
}
