{
  "nbformat": 4,
  "nbformat_minor": 0,
  "metadata": {
    "colab": {
      "name": "抽順序程式.ipynb",
      "provenance": [],
      "collapsed_sections": [],
      "authorship_tag": "ABX9TyNij3ndP2HljoM1M1buiEaw",
      "include_colab_link": true
    },
    "kernelspec": {
      "name": "python3",
      "display_name": "Python 3"
    },
    "language_info": {
      "name": "python"
    }
  },
  "cells": [
    {
      "cell_type": "markdown",
      "metadata": {
        "id": "view-in-github",
        "colab_type": "text"
      },
      "source": [
        "<a href=\"https://colab.research.google.com/github/yenlung/Python-Small-Projects/blob/master/%E6%8A%BD%E9%A0%86%E5%BA%8F%E7%A8%8B%E5%BC%8F.ipynb\" target=\"_parent\"><img src=\"https://colab.research.google.com/assets/colab-badge.svg\" alt=\"Open In Colab\"/></a>"
      ]
    },
    {
      "cell_type": "code",
      "execution_count": 2,
      "metadata": {
        "id": "vCrMWLTxVHuV"
      },
      "outputs": [],
      "source": [
        "from random import shuffle\n",
        "from IPython.display import display, Image, clear_output\n",
        "from time import sleep"
      ]
    },
    {
      "cell_type": "code",
      "source": [
        "!wget --no-check-certificate \\\n",
        "    https://github.com/yenlung/Python-Small-Projects/raw/master/tng.zip \\\n",
        "    -O /content/tng.zip"
      ],
      "metadata": {
        "colab": {
          "base_uri": "https://localhost:8080/"
        },
        "id": "0CF1RO4tWdl5",
        "outputId": "b7096d73-1e8e-4c7a-8151-ea7bb3cfaefa"
      },
      "execution_count": 8,
      "outputs": [
        {
          "output_type": "stream",
          "name": "stdout",
          "text": [
            "--2022-06-06 00:17:13--  https://github.com/yenlung/Python-Small-Projects/raw/master/tng.zip\n",
            "Resolving github.com (github.com)... 140.82.114.3\n",
            "Connecting to github.com (github.com)|140.82.114.3|:443... connected.\n",
            "HTTP request sent, awaiting response... 302 Found\n",
            "Location: https://raw.githubusercontent.com/yenlung/Python-Small-Projects/master/tng.zip [following]\n",
            "--2022-06-06 00:17:13--  https://raw.githubusercontent.com/yenlung/Python-Small-Projects/master/tng.zip\n",
            "Resolving raw.githubusercontent.com (raw.githubusercontent.com)... 185.199.108.133, 185.199.109.133, 185.199.110.133, ...\n",
            "Connecting to raw.githubusercontent.com (raw.githubusercontent.com)|185.199.108.133|:443... connected.\n",
            "HTTP request sent, awaiting response... 200 OK\n",
            "Length: 42488 (41K) [application/zip]\n",
            "Saving to: ‘/content/tng.zip’\n",
            "\n",
            "/content/tng.zip    100%[===================>]  41.49K  --.-KB/s    in 0.01s   \n",
            "\n",
            "2022-06-06 00:17:13 (4.20 MB/s) - ‘/content/tng.zip’ saved [42488/42488]\n",
            "\n"
          ]
        }
      ]
    },
    {
      "cell_type": "code",
      "source": [
        "import os\n",
        "import zipfile\n",
        "\n",
        "local_zip = '/content/tng.zip'\n",
        "zip_ref = zipfile.ZipFile(local_zip, 'r')\n",
        "zip_ref.extractall('/content')\n",
        "zip_ref.close()"
      ],
      "metadata": {
        "id": "-0yv5McwWwDZ"
      },
      "execution_count": 9,
      "outputs": []
    },
    {
      "cell_type": "code",
      "source": [
        "tng01 = Image('/content/tng/tng01.png')\n",
        "tng02 = Image('/content/tng/tng02.png')\n",
        "tng03 = Image('/content/tng/tng03.png')"
      ],
      "metadata": {
        "id": "qDQVG0huW1VJ"
      },
      "execution_count": 12,
      "outputs": []
    },
    {
      "cell_type": "code",
      "source": [
        "tngs = [tng01, tng02]"
      ],
      "metadata": {
        "id": "qh9_VoxEW9kj"
      },
      "execution_count": 13,
      "outputs": []
    },
    {
      "cell_type": "code",
      "source": [
        "egg = ['乾唐', '彥文', '孟純', '立瑜']"
      ],
      "metadata": {
        "id": "adEzVGLSV1D_"
      },
      "execution_count": 3,
      "outputs": []
    },
    {
      "cell_type": "code",
      "source": [
        "ham = list(\"□□□□□□□□□□\")\n",
        "\n",
        "for i in range(10):\n",
        "    display(tngs[i%2])\n",
        "    spam = ham.copy()\n",
        "    spam[i]=\"■\"\n",
        "    print(''.join(spam))\n",
        "    sleep(0.5)\n",
        "    clear_output(wait=True)\n",
        "display(tng03);\n",
        "print(\"■■■■■■■■■■\")\n",
        "\n",
        "shuffle(egg)\n",
        "print()\n",
        "print(\"抽籤結果是...\")\n",
        "\n",
        "for i in range(4):\n",
        "    print(f\"{i+1}. {egg[i]}\")\n",
        "    sleep(1)"
      ],
      "metadata": {
        "colab": {
          "base_uri": "https://localhost:8080/",
          "height": 248
        },
        "id": "F_H1WyTXWNhx",
        "outputId": "4dcebfc5-7050-45a5-f7c8-0370522550c5"
      },
      "execution_count": 29,
      "outputs": [
        {
          "output_type": "display_data",
          "data": {
            "text/plain": [
              "<IPython.core.display.Image object>"
            ],
            "image/png": "[encoded data removed]"
          },
          "metadata": {}
        },
        {
          "output_type": "stream",
          "name": "stdout",
          "text": [
            "■■■■■■■■■■\n",
            "\n",
            "抽籤結果是...\n",
            "1. 彥文\n",
            "2. 立瑜\n",
            "3. 孟純\n",
            "4. 乾唐\n"
          ]
        }
      ]
    },
    {
      "cell_type": "code",
      "source": [
        ""
      ],
      "metadata": {
        "id": "RvlglXaNYLxK"
      },
      "execution_count": null,
      "outputs": []
    }
  ]
}